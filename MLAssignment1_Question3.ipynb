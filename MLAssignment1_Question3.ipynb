{
  "nbformat": 4,
  "nbformat_minor": 0,
  "metadata": {
    "colab": {
      "name": "MLAssignment1_Question3.ipynb",
      "provenance": [],
      "collapsed_sections": [],
      "authorship_tag": "ABX9TyNBkhzKU27vv3JemCQUeWb5",
      "include_colab_link": true
    },
    "kernelspec": {
      "name": "python3",
      "display_name": "Python 3"
    },
    "language_info": {
      "name": "python"
    }
  },
  "cells": [
    {
      "cell_type": "markdown",
      "metadata": {
        "id": "view-in-github",
        "colab_type": "text"
      },
      "source": [
        "<a href=\"https://colab.research.google.com/github/madhuresh97/IntroToML/blob/main/MLAssignment1_Question3.ipynb\" target=\"_parent\"><img src=\"https://colab.research.google.com/assets/colab-badge.svg\" alt=\"Open In Colab\"/></a>"
      ]
    },
    {
      "cell_type": "markdown",
      "source": [
        "Name: Madhuresh Gupta\n",
        "\n",
        "NUID: 002198926\n",
        "\n",
        "Adding all the necessary import statements that are required for the question below"
      ],
      "metadata": {
        "id": "pPtcL-n1y3Tp"
      }
    },
    {
      "cell_type": "markdown",
      "source": [
        "# **Question 3:**\n",
        "We need to perform minimum probability of error classifiers for 2 datasets, covariance and mean matrices, estimate class priors, regularize, count the errors, and report the error probability estimate. Also we will share the confusion matrix."
      ],
      "metadata": {
        "id": "lBQea1nQxD-K"
      }
    },
    {
      "cell_type": "code",
      "source": [
        "import matplotlib.pyplot as plt\n",
        "from mpl_toolkits.mplot3d import Axes3D\n",
        "import numpy as np\n",
        "from scipy.stats import multivariate_normal\n",
        "import pandas as pd\n",
        "\n",
        "def getConfusionMatrix(classifierresults, testclasses, classes):\n",
        "    classifier_result = np.equal(np.transpose(np.tile(classes, (classifierresults.size, 1))), classifierresults)\n",
        "    classmatrix = np.equal(np.transpose(np.tile(classes, (classifierresults.size,1))), testclasses)\n",
        "    confusion_matrix = np.empty((classes.size, classes.size))\n",
        "\n",
        "    for i in range(classes.size):\n",
        "        tempclass = np.tile(classmatrix[i], (classes.size, 1))\n",
        "\n",
        "        outvector = np.sum(np.logical_and(classifier_result, tempclass), axis=1)/classifierresults.size\n",
        "        confusion_matrix[:,i] = outvector\n",
        "        \n",
        "    return np.transpose(confusion_matrix)\n",
        "\n",
        "def minErrorClassifier(testdata, testlabels):\n",
        "    classes = np.unique(testlabels)\n",
        "    classmask = np.equal(np.tile(classes, (testlabels.size,1)), np.transpose(testlabels))\n",
        "    databyclass = np.empty(classes.size, dtype='object')\n",
        "    covbyclass = np.empty(classes.size, dtype='object')\n",
        "    regcovbyclass = np.empty(classes.size, dtype='object')\n",
        "    meanbyclass = np.empty(classes.size, dtype='object')\n",
        "    regularizinglambdas = np.empty(classes.size)\n",
        "    classpriors = np.sum(classmask, axis = 0)/testlabels.size\n",
        "    print(classpriors)\n",
        "    classprobabilitymatrix = np.empty((testlabels.size, classes.size))\n",
        "    \n",
        "    for i in range(classes.size):\n",
        "        databyclass[i] = testdata[classmask[:,i]]\n",
        "        covbyclass[i] = np.cov(databyclass[i], rowvar=False)\n",
        "        regularizinglambdas[i] = np.trace(covbyclass[i])/np.linalg.matrix_rank(covbyclass[i])\n",
        "        print(classes[i])\n",
        "        print(regularizinglambdas[i])\n",
        "    \n",
        "    regularizinglambda = np.average(regularizinglambdas)\n",
        "    # regularizinglambda = .05\n",
        "    \n",
        "    print(\"Regularizing lambda is %f\" % (regularizinglambda))\n",
        "        \n",
        "    for i in range(classes.size):\n",
        "        regcovbyclass[i] = covbyclass[i] + regularizinglambda*np.identity(np.shape(testdata)[1])\n",
        "        meanbyclass[i] = np.mean(databyclass[i], axis=0)\n",
        "        classprobabilitymatrix[:,i] = classpriors[i]*multivariate_normal.pdf(testdata, meanbyclass[i], regcovbyclass[i])\n",
        "        \n",
        "    classifierresults = classes[np.argmax(classprobabilitymatrix, axis=1)]\n",
        "    return classifierresults, covbyclass, meanbyclass, databyclass\n",
        "\n",
        "def getErrorProbability(actual_labels, classifierresults):\n",
        "        return np.sum(np.logical_not(np.equal(classifierresults, actual_labels)))/actual_labels.size*100"
      ],
      "metadata": {
        "id": "Lu7Y-B86v1L3"
      },
      "execution_count": null,
      "outputs": []
    },
    {
      "cell_type": "markdown",
      "source": [
        "\n",
        "##Part 1- Using Wine Dataset:\n",
        "a. Estimating the Mean and Covariance Matrices-"
      ],
      "metadata": {
        "id": "ijVIpC5Zvynp"
      }
    },
    {
      "cell_type": "code",
      "source": [
        "#adding wine dataset from the session storage in google colab\n",
        "#only using white wine dataset\n",
        "winetestdata = np.loadtxt(r'/content/winequality-white.csv', delimiter=';', skiprows=1, usecols=(0,1,2,3,4,5,6))\n",
        "winetestlabels = np.array([np.loadtxt(r'/content/winequality-white.csv', delimiter=';', skiprows=1, usecols=10, dtype='int8')])\n",
        "wineclasses = np.unique(winetestlabels)\n",
        "\n",
        "wineclassifierresults, winecov, winemean, winedatabyclass = minErrorClassifier(winetestdata, winetestlabels)\n",
        "wineconfusion = pd.DataFrame(getConfusionMatrix(wineclassifierresults, winetestlabels, wineclasses), index=wineclasses, columns=wineclasses)\n",
        "wineerrorprob = getErrorProbability(winetestlabels, wineclassifierresults)\n",
        "\n",
        "print('\\n\\n Wine Confusion Matrix: ')\n",
        "print(wineconfusion)\n",
        "print('\\n')\n",
        "print('Wine Error Probability: ', wineerrorprob, )\n",
        "\n",
        "fig, axes = plt.subplots(3,4)\n",
        "\n",
        "for i in range(np.shape(winetestdata)[1]):\n",
        "    axes.flat[i].hist(winedatabyclass[3][i])\n",
        "    axes.flat[i].set_title(\"Feature %i\" % i, fontsize=8)\n",
        "    axes.flat[i].xaxis.set_ticklabels([])\n",
        "    axes.flat[i].yaxis.set_ticklabels([])\n",
        "\n",
        "axes.flat[11].set_visible(False)\n",
        "fig.suptitle(\"Histograms for Features 0-10 in Class 6 Wines\")\n",
        "\n",
        "fig2, axes2 = plt.subplots(3,4)\n",
        "\n"
      ],
      "metadata": {
        "colab": {
          "base_uri": "https://localhost:8080/",
          "height": 1000
        },
        "id": "ESkBY4fPv6pZ",
        "outputId": "bb04f923-ac3e-4505-89db-75c464ff9148"
      },
      "execution_count": null,
      "outputs": [
        {
          "output_type": "stream",
          "name": "stdout",
          "text": [
            "[0.06472029 0.32788893 0.2564312  0.18497346 0.13781135 0.02674561\n",
            " 0.00142915]\n",
            "8\n",
            "225.47995658981696\n",
            "9\n",
            "289.32378428892747\n",
            "10\n",
            "284.68720839671903\n",
            "11\n",
            "222.0819228410422\n",
            "12\n",
            "143.48782106446055\n",
            "13\n",
            "175.94236168507678\n",
            "14\n",
            "82.62359638888887\n",
            "Regularizing lambda is 203.375236\n",
            "\n",
            "\n",
            " Wine Confusion Matrix: \n",
            "     8         9         10        11        12   13   14\n",
            "8   0.0  0.057166  0.007146  0.000408  0.000000  0.0  0.0\n",
            "9   0.0  0.244181  0.060229  0.011637  0.011842  0.0  0.0\n",
            "10  0.0  0.135361  0.082687  0.020416  0.017967  0.0  0.0\n",
            "11  0.0  0.067170  0.061658  0.031441  0.024704  0.0  0.0\n",
            "12  0.0  0.035525  0.051654  0.021641  0.028991  0.0  0.0\n",
            "13  0.0  0.005104  0.012250  0.005512  0.003879  0.0  0.0\n",
            "14  0.0  0.000204  0.000612  0.000000  0.000612  0.0  0.0\n",
            "\n",
            "\n",
            "Wine Error Probability:  61.269906084115966\n"
          ]
        },
        {
          "output_type": "display_data",
          "data": {
            "image/png": "[encoded data removed]",
            "text/plain": [
              "<Figure size 432x288 with 12 Axes>"
            ]
          },
          "metadata": {
            "needs_background": "light"
          }
        },
        {
          "output_type": "display_data",
          "data": {
            "image/png": "[encoded data removed]",
            "text/plain": [
              "<Figure size 432x288 with 12 Axes>"
            ]
          },
          "metadata": {
            "needs_background": "light"
          }
        }
      ]
    },
    {
      "cell_type": "markdown",
      "source": [
        "##Part 2- Using HAR Dataset:\n",
        "Loading the HAR dataset-"
      ],
      "metadata": {
        "id": "O-wcJXKr-Y6z"
      }
    },
    {
      "cell_type": "code",
      "source": [
        "HARdata = np.loadtxt(r'/content/X_test.txt')\n",
        "HARlabels = np.array([np.loadtxt(r'/content/y_test.txt', dtype='int8')])\n",
        "HARclasses = np.array([1,2,3,4,5,6])\n",
        "\n",
        "HARclassifierresults, HARcov, HARmean, HARdata = minErrorClassifier(HARdata, HARlabels)\n",
        "HARconfusion = pd.DataFrame(getConfusionMatrix(HARclassifierresults, HARlabels, HARclasses), index=HARclasses, columns=HARclasses)\n",
        "HARerrorprob = getErrorProbability(HARlabels, HARclassifierresults)\n",
        "\n",
        "\n",
        "print('\\n\\n Human Activity Confusion Matrix: ')\n",
        "print(HARconfusion)\n",
        "print('\\n')\n",
        "print('Human Activity Error Probability: ', HARerrorprob, '\\n\\n')\n"
      ],
      "metadata": {
        "colab": {
          "base_uri": "https://localhost:8080/"
        },
        "id": "8aSWdbL1v7QX",
        "outputId": "f5d2dfdf-0592-427c-f890-c06618021f89"
      },
      "execution_count": null,
      "outputs": [
        {
          "output_type": "stream",
          "name": "stdout",
          "text": [
            "[0.16830675 0.15982355 0.14251781 0.16661011 0.18052257 0.18221921]\n",
            "1\n",
            "0.040941002268860396\n",
            "2\n",
            "0.0383241479061296\n",
            "3\n",
            "0.06076292492219347\n",
            "4\n",
            "0.03223197384071751\n",
            "5\n",
            "0.03135624768511522\n",
            "6\n",
            "0.04014766539233752\n",
            "Regularizing lambda is 0.040627\n",
            "\n",
            "\n",
            " Human Activity Confusion Matrix: \n",
            "          1         2         3         4         5         6\n",
            "1  0.168307  0.000000  0.000000  0.000000  0.000000  0.000000\n",
            "2  0.000000  0.159824  0.000000  0.000000  0.000000  0.000000\n",
            "3  0.000000  0.000679  0.141839  0.000000  0.000000  0.000000\n",
            "4  0.000000  0.000000  0.000000  0.165931  0.000679  0.000000\n",
            "5  0.000000  0.000000  0.000000  0.000339  0.180183  0.000000\n",
            "6  0.000000  0.000000  0.000000  0.000000  0.000000  0.182219\n",
            "\n",
            "\n",
            "Human Activity Error Probability:  0.16966406515100102 \n",
            "\n",
            "\n"
          ]
        }
      ]
    }
  ]
}